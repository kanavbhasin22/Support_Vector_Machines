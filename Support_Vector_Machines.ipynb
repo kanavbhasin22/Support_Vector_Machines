{
  "nbformat": 4,
  "nbformat_minor": 0,
  "metadata": {
    "colab": {
      "name": "Support Vector Machines",
      "provenance": []
    },
    "kernelspec": {
      "name": "python3",
      "display_name": "Python 3"
    }
  },
  "cells": [
    {
      "cell_type": "code",
      "metadata": {
        "id": "UkhEPkKi87by"
      },
      "source": [
        "from sklearn import datasets\n",
        "iris=datasets.load_iris()\n",
        "digits=datasets.load_digits()"
      ],
      "execution_count": 1,
      "outputs": []
    },
    {
      "cell_type": "code",
      "metadata": {
        "id": "baz53vxN9N23",
        "colab": {
          "base_uri": "https://localhost:8080/"
        },
        "outputId": "3dd0e8c4-157e-49bd-e5fc-c0483392873a"
      },
      "source": [
        "print(digits.data)"
      ],
      "execution_count": 2,
      "outputs": [
        {
          "output_type": "stream",
          "text": [
            "[[ 0.  0.  5. ...  0.  0.  0.]\n",
            " [ 0.  0.  0. ... 10.  0.  0.]\n",
            " [ 0.  0.  0. ... 16.  9.  0.]\n",
            " ...\n",
            " [ 0.  0.  1. ...  6.  0.  0.]\n",
            " [ 0.  0.  2. ... 12.  0.  0.]\n",
            " [ 0.  0. 10. ... 12.  1.  0.]]\n"
          ],
          "name": "stdout"
        }
      ]
    },
    {
      "cell_type": "code",
      "metadata": {
        "id": "RGTJ42IX9SGf",
        "colab": {
          "base_uri": "https://localhost:8080/"
        },
        "outputId": "7a054434-281f-48c1-ce06-be32a50b9ede"
      },
      "source": [
        "print(digits.target)"
      ],
      "execution_count": 3,
      "outputs": [
        {
          "output_type": "stream",
          "text": [
            "[0 1 2 ... 8 9 8]\n"
          ],
          "name": "stdout"
        }
      ]
    },
    {
      "cell_type": "code",
      "metadata": {
        "id": "dgcPqIee9Wiu",
        "colab": {
          "base_uri": "https://localhost:8080/"
        },
        "outputId": "b48eba72-c3bb-4201-894e-af6983f512ed"
      },
      "source": [
        "digits.data.shape"
      ],
      "execution_count": 4,
      "outputs": [
        {
          "output_type": "execute_result",
          "data": {
            "text/plain": [
              "(1797, 64)"
            ]
          },
          "metadata": {
            "tags": []
          },
          "execution_count": 4
        }
      ]
    },
    {
      "cell_type": "code",
      "metadata": {
        "id": "NpPwXTnS9d37",
        "colab": {
          "base_uri": "https://localhost:8080/"
        },
        "outputId": "c765ca5f-3474-407d-adb8-5a5445795449"
      },
      "source": [
        "digits.target.shape"
      ],
      "execution_count": 6,
      "outputs": [
        {
          "output_type": "execute_result",
          "data": {
            "text/plain": [
              "(1797,)"
            ]
          },
          "metadata": {
            "tags": []
          },
          "execution_count": 6
        }
      ]
    },
    {
      "cell_type": "code",
      "metadata": {
        "id": "mWKeht2k9nlq"
      },
      "source": [
        "from sklearn import svm\n",
        "classifier=svm.SVC(C=100,gamma=0.001,max_iter=1000)"
      ],
      "execution_count": 7,
      "outputs": []
    },
    {
      "cell_type": "code",
      "metadata": {
        "id": "6qnQf_kqAOfP"
      },
      "source": [
        "from sklearn.model_selection import train_test_split\n",
        "X_train, X_test, y_train, y_test = train_test_split(digits.data, digits.target, test_size=0.25, shuffle=False)"
      ],
      "execution_count": null,
      "outputs": []
    },
    {
      "cell_type": "code",
      "metadata": {
        "id": "tMAYa9T296Jr",
        "colab": {
          "base_uri": "https://localhost:8080/",
          "height": 85
        },
        "outputId": "370b4ca3-a8ca-46c5-bb78-b399bc0ce09a"
      },
      "source": [
        "classifier.fit(X_train,y_train)"
      ],
      "execution_count": null,
      "outputs": [
        {
          "output_type": "execute_result",
          "data": {
            "text/plain": [
              "SVC(C=100, break_ties=False, cache_size=200, class_weight=None, coef0=0.0,\n",
              "    decision_function_shape='ovr', degree=3, gamma=0.001, kernel='rbf',\n",
              "    max_iter=1000, probability=False, random_state=None, shrinking=True,\n",
              "    tol=0.001, verbose=False)"
            ]
          },
          "metadata": {
            "tags": []
          },
          "execution_count": 57
        }
      ]
    },
    {
      "cell_type": "code",
      "metadata": {
        "id": "63h9Fv_oCGcS",
        "colab": {
          "base_uri": "https://localhost:8080/",
          "height": 34
        },
        "outputId": "9d4ecef8-5870-4090-9b9e-cedc13cf09e6"
      },
      "source": [
        "classifier.predict(X_train)"
      ],
      "execution_count": null,
      "outputs": [
        {
          "output_type": "execute_result",
          "data": {
            "text/plain": [
              "array([0, 1, 2, ..., 2, 6, 3])"
            ]
          },
          "metadata": {
            "tags": []
          },
          "execution_count": 58
        }
      ]
    },
    {
      "cell_type": "code",
      "metadata": {
        "id": "xSLJmVndCMAZ",
        "colab": {
          "base_uri": "https://localhost:8080/",
          "height": 306
        },
        "outputId": "9f233a0b-435a-429e-eac0-ad5334cd64e0"
      },
      "source": [
        "from sklearn.metrics import classification_report\n",
        "pred=classifier.predict(X_train)\n",
        "print(classification_report(y_train,pred))"
      ],
      "execution_count": null,
      "outputs": [
        {
          "output_type": "stream",
          "text": [
            "              precision    recall  f1-score   support\n",
            "\n",
            "           0       1.00      1.00      1.00       135\n",
            "           1       1.00      1.00      1.00       136\n",
            "           2       1.00      1.00      1.00       134\n",
            "           3       1.00      1.00      1.00       136\n",
            "           4       1.00      1.00      1.00       133\n",
            "           5       1.00      1.00      1.00       137\n",
            "           6       1.00      1.00      1.00       134\n",
            "           7       1.00      1.00      1.00       134\n",
            "           8       1.00      1.00      1.00       133\n",
            "           9       1.00      1.00      1.00       135\n",
            "\n",
            "    accuracy                           1.00      1347\n",
            "   macro avg       1.00      1.00      1.00      1347\n",
            "weighted avg       1.00      1.00      1.00      1347\n",
            "\n"
          ],
          "name": "stdout"
        }
      ]
    },
    {
      "cell_type": "code",
      "metadata": {
        "id": "W7ll3Lfw-ZMF",
        "colab": {
          "base_uri": "https://localhost:8080/",
          "height": 374
        },
        "outputId": "a921463b-263e-4427-b709-5a6f12c6a82b"
      },
      "source": [
        "classifier.predict(X_test)"
      ],
      "execution_count": null,
      "outputs": [
        {
          "output_type": "execute_result",
          "data": {
            "text/plain": [
              "array([3, 7, 3, 3, 4, 6, 6, 6, 4, 9, 1, 5, 0, 9, 6, 2, 8, 2, 0, 0, 1, 7,\n",
              "       6, 3, 2, 1, 7, 4, 6, 3, 1, 3, 9, 1, 7, 6, 8, 4, 3, 1, 4, 0, 5, 3,\n",
              "       6, 9, 6, 1, 7, 5, 4, 4, 7, 2, 8, 2, 2, 5, 7, 9, 5, 4, 8, 8, 4, 9,\n",
              "       0, 8, 0, 1, 2, 3, 4, 5, 6, 7, 8, 9, 0, 1, 2, 3, 4, 5, 6, 7, 8, 9,\n",
              "       0, 1, 2, 3, 4, 5, 6, 7, 8, 9, 0, 9, 5, 5, 6, 5, 0, 9, 8, 9, 8, 4,\n",
              "       1, 7, 7, 3, 5, 1, 0, 0, 2, 2, 7, 8, 2, 0, 1, 2, 6, 3, 3, 7, 3, 3,\n",
              "       4, 6, 6, 6, 4, 9, 1, 5, 0, 9, 5, 2, 8, 2, 0, 0, 1, 7, 6, 3, 2, 1,\n",
              "       7, 4, 6, 3, 1, 3, 9, 1, 7, 6, 8, 4, 3, 1, 4, 0, 5, 3, 6, 9, 6, 1,\n",
              "       7, 5, 4, 4, 7, 2, 8, 2, 2, 5, 7, 9, 5, 4, 8, 8, 4, 9, 0, 8, 9, 8,\n",
              "       0, 1, 2, 3, 4, 5, 6, 7, 1, 9, 0, 1, 2, 3, 4, 5, 6, 9, 0, 1, 2, 3,\n",
              "       4, 5, 6, 7, 8, 9, 4, 9, 5, 5, 6, 5, 0, 9, 8, 9, 8, 4, 1, 7, 7, 3,\n",
              "       5, 1, 0, 0, 2, 2, 7, 8, 2, 0, 1, 2, 6, 8, 3, 7, 3, 3, 4, 6, 6, 6,\n",
              "       9, 9, 1, 5, 0, 9, 5, 2, 8, 0, 1, 7, 6, 3, 2, 1, 7, 9, 6, 3, 1, 3,\n",
              "       9, 1, 7, 6, 8, 4, 3, 1, 4, 0, 5, 3, 6, 9, 6, 1, 7, 5, 4, 4, 7, 2,\n",
              "       2, 5, 7, 8, 5, 9, 4, 5, 0, 8, 9, 8, 0, 1, 2, 3, 4, 5, 6, 7, 8, 9,\n",
              "       0, 1, 2, 3, 4, 5, 6, 7, 8, 9, 0, 1, 2, 8, 4, 5, 6, 7, 8, 9, 0, 9,\n",
              "       5, 5, 6, 5, 0, 9, 8, 9, 8, 4, 1, 7, 7, 3, 5, 1, 0, 0, 2, 2, 7, 8,\n",
              "       2, 0, 1, 2, 6, 8, 8, 7, 5, 3, 4, 6, 6, 6, 4, 9, 1, 5, 0, 9, 5, 2,\n",
              "       8, 2, 0, 0, 1, 7, 6, 3, 2, 1, 7, 4, 6, 3, 1, 3, 9, 1, 7, 6, 8, 4,\n",
              "       5, 1, 4, 0, 5, 3, 6, 9, 6, 1, 7, 5, 4, 4, 7, 2, 8, 2, 2, 5, 7, 9,\n",
              "       5, 4, 8, 8, 4, 9, 0, 8, 9, 8])"
            ]
          },
          "metadata": {
            "tags": []
          },
          "execution_count": 60
        }
      ]
    },
    {
      "cell_type": "code",
      "metadata": {
        "id": "DMqMGRVU-ho5",
        "colab": {
          "base_uri": "https://localhost:8080/",
          "height": 306
        },
        "outputId": "28bbdc01-19c1-4d59-cd6e-a152ebb8f833"
      },
      "source": [
        "from sklearn.metrics import accuracy_score, classification_report\n",
        "pred=classifier.predict(X_test)\n",
        "print(classification_report(y_test,pred))"
      ],
      "execution_count": null,
      "outputs": [
        {
          "output_type": "stream",
          "text": [
            "              precision    recall  f1-score   support\n",
            "\n",
            "           0       1.00      0.98      0.99        43\n",
            "           1       0.98      1.00      0.99        46\n",
            "           2       1.00      1.00      1.00        43\n",
            "           3       1.00      0.87      0.93        47\n",
            "           4       0.98      0.94      0.96        48\n",
            "           5       0.94      0.98      0.96        45\n",
            "           6       0.98      1.00      0.99        47\n",
            "           7       1.00      1.00      1.00        45\n",
            "           8       0.89      0.98      0.93        41\n",
            "           9       0.93      0.96      0.95        45\n",
            "\n",
            "    accuracy                           0.97       450\n",
            "   macro avg       0.97      0.97      0.97       450\n",
            "weighted avg       0.97      0.97      0.97       450\n",
            "\n"
          ],
          "name": "stdout"
        }
      ]
    },
    {
      "cell_type": "code",
      "metadata": {
        "id": "E3urceN-A8Rs"
      },
      "source": [
        ""
      ],
      "execution_count": null,
      "outputs": []
    }
  ]
}